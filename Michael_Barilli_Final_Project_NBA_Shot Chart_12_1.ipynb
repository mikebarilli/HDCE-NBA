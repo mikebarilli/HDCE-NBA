{
 "cells": [
  {
   "cell_type": "code",
   "execution_count": 2,
   "id": "63c6f46d",
   "metadata": {},
   "outputs": [
    {
     "name": "stdout",
     "output_type": "stream",
     "text": [
      "Requirement already satisfied: nba_api in /Users/michaelbarilli/opt/anaconda3/lib/python3.9/site-packages (1.1.13)\n",
      "Requirement already satisfied: numpy in /Users/michaelbarilli/opt/anaconda3/lib/python3.9/site-packages (from nba_api) (1.21.5)\n",
      "Requirement already satisfied: requests in /Users/michaelbarilli/opt/anaconda3/lib/python3.9/site-packages (from nba_api) (2.27.1)\n",
      "Requirement already satisfied: idna<4,>=2.5 in /Users/michaelbarilli/opt/anaconda3/lib/python3.9/site-packages (from requests->nba_api) (3.3)\n",
      "Requirement already satisfied: charset-normalizer~=2.0.0 in /Users/michaelbarilli/opt/anaconda3/lib/python3.9/site-packages (from requests->nba_api) (2.0.4)\n",
      "Requirement already satisfied: certifi>=2017.4.17 in /Users/michaelbarilli/opt/anaconda3/lib/python3.9/site-packages (from requests->nba_api) (2021.10.8)\n",
      "Requirement already satisfied: urllib3<1.27,>=1.21.1 in /Users/michaelbarilli/opt/anaconda3/lib/python3.9/site-packages (from requests->nba_api) (1.26.9)\n",
      "Note: you may need to restart the kernel to use updated packages.\n"
     ]
    }
   ],
   "source": [
    "pip install nba_api"
   ]
  },
  {
   "cell_type": "code",
   "execution_count": 13,
   "id": "1efe460e",
   "metadata": {},
   "outputs": [],
   "source": [
    "from nba_api.stats.endpoints import shotchartdetail\n",
    "import json\n",
    "import requests\n",
    "import pandas as pd\n",
    "import matplotlib as mpl\n",
    "import matplotlib.pyplot as plt\n",
    "import re"
   ]
  },
  {
   "cell_type": "code",
   "execution_count": 14,
   "id": "3e9709c9",
   "metadata": {},
   "outputs": [],
   "source": [
    "#FUNCTION TO INPUT PLAYER NAME INTO JSON CALL\n",
    "\n",
    "def player_name_input():\n",
    "    while True:\n",
    "        try:\n",
    "            playername = input(\"Enter an NBA player's full name: \")\n",
    "            #print(playername)\n",
    "        except ValueError:\n",
    "            print(\"Cannot find player! Try again!\")\n",
    "            continue\n",
    "        playerlst = playername.split(' ')\n",
    "        playerfirst = playerlst[0]\n",
    "        playerlast = playername[len(playerfirst)+1:len(playername)]\n",
    "        #return '(\"'+playerfirst+'\", \"'+playerlast+'\")'\n",
    "        from nba_api.stats.static import players\n",
    "        nba_players = players.get_players()\n",
    "\n",
    "        for player in nba_players:\n",
    "            if player['full_name'].lower() == playerfirst.lower()+' '+playerlast.lower():\n",
    "                #While statement to confirm input is correct\n",
    "                return player['id']\n",
    "                break\n",
    "        else:\n",
    "            print(\"Invalid player name- try again!\")\n",
    "            continue\n",
    "                \n",
    "\n",
    "#FUNCTION TO INPUT PREFERRED SEASON\n",
    "\n",
    "#testing_playerid = player_name_input()\n",
    "\n",
    "def season_input(playerid):\n",
    "    \"\"\"\n",
    "    take player id input from user to validate season input from user.\n",
    "    raise different exceptions for two issue types:\n",
    "    1. date format is incorrect (must be YYYY-YY)\n",
    "    2. player did not play during the season inputted (started career in 2019, user inputted 2016)\n",
    "    \"\"\"\n",
    "    while True:\n",
    "        try:\n",
    "            season = input(\"Enter the season (2013-14 or later) in this format: YYYY-YY (2022-23, for example): \")\n",
    "        except ValueError:\n",
    "            print(\"Invalid input! Use YYYY-YY format and ensure year is 2013 or later\")\n",
    "            continue\n",
    "        from nba_api.stats.endpoints import playercareerstats\n",
    "        career = playercareerstats.PlayerCareerStats(player_id=playerid)\n",
    "        player_career_data = career.get_data_frames()[0]\n",
    "        mapping_team_table = player_career_data.iloc[:,0:4]\n",
    "        mapping_team_table\n",
    "        resultdf = mapping_team_table['SEASON_ID']\n",
    "        pattern = r'\\d{4}-\\d{2}$'  \n",
    "        if (len(re.findall(pattern, season)) == 1) and (int(season[0:4]) > 2012) and \\\n",
    "        (mapping_team_table['SEASON_ID'].str.contains(season).any()):\n",
    "            #print(len(re.findall(pattern, season)))\n",
    "            return season\n",
    "            break\n",
    "        elif (len(re.findall(pattern, season)) == 1) and (int(season[0:4]) > 2012) and \\\n",
    "                (mapping_team_table['SEASON_ID'].str.contains(season).any()==False):\n",
    "            print(\"Invalid input! Player did not play this season. Please re-input\")\n",
    "            continue\n",
    "        else:\n",
    "            print(\"Invalid input! Use YYYY-YY format and ensure year is 2013 or later\")\n",
    "            continue\n",
    "\n",
    "\n",
    "def team_id_retrieval(playerid, season):\n",
    "    \"\"\"\n",
    "    Retrieve Team ID unsing inputs from \n",
    "    season_input and player_name_input functions\n",
    "    \"\"\"\n",
    "    from nba_api.stats.endpoints import playercareerstats\n",
    "    career = playercareerstats.PlayerCareerStats(player_id=playerid)\n",
    "    player_career_data = career.get_data_frames()[0]\n",
    "    mapping_team_table = player_career_data.iloc[:,0:4]\n",
    "    mapping_team_table\n",
    "    resultdf = mapping_team_table[mapping_team_table['SEASON_ID'] == season]\n",
    "    return resultdf['TEAM_ID'].values[0]\n",
    "\n",
    "\n",
    "def player_name_return(playerid):\n",
    "    from nba_api.stats.static import players\n",
    "    nba_players = players.get_players()\n",
    "    \n",
    "    for player in nba_players:\n",
    "        if player['id'] == playerid:\n",
    "            #While statement to confirm input is correct\n",
    "            return player['full_name']\n",
    "    return \"Invalid Player Name\"\n",
    "\n",
    "\n"
   ]
  },
  {
   "cell_type": "code",
   "execution_count": 15,
   "id": "c3b73029",
   "metadata": {},
   "outputs": [
    {
     "name": "stdout",
     "output_type": "stream",
     "text": [
      "Enter an NBA player's full name: lebronkames\n",
      "Invalid player name- try again!\n",
      "Enter an NBA player's full name: lebron james\n",
      "Enter the season (2013-14 or later) in this format: YYYY-YY (2022-23, for example): 2012-13\n",
      "Invalid input! Use YYYY-YY format and ensure year is 2013 or later\n",
      "Enter the season (2013-14 or later) in this format: YYYY-YY (2022-23, for example): 2013-2014\n",
      "Invalid input! Use YYYY-YY format and ensure year is 2013 or later\n",
      "Enter the season (2013-14 or later) in this format: YYYY-YY (2022-23, for example): 2016-17\n"
     ]
    }
   ],
   "source": [
    "player_id_input = player_name_input()\n",
    "season_id_input = season_input(player_id_input)\n",
    "team_id_input = team_id_retrieval(player_id_input, season_id_input)\n",
    "player_name_for_display = player_name_return(player_id_input)\n",
    "label_value = player_name_for_display +'\\n'+ season_id_input+\" Season\"\n",
    "\n",
    "shot_json = shotchartdetail.ShotChartDetail(\n",
    "            team_id = team_id_input,\n",
    "            player_id = player_id_input,\n",
    "            context_measure_simple = 'PTS',\n",
    "            season_nullable = season_id_input,\n",
    "            season_type_all_star = 'Regular Season')\n"
   ]
  },
  {
   "cell_type": "code",
   "execution_count": 16,
   "id": "7ba4507e",
   "metadata": {},
   "outputs": [],
   "source": [
    "shot_data = json.loads(shot_json.get_json())"
   ]
  },
  {
   "cell_type": "code",
   "execution_count": 17,
   "id": "6120104c",
   "metadata": {},
   "outputs": [],
   "source": [
    "relevant_data = shot_data['resultSets'][0]\n",
    "headers = relevant_data['headers']\n",
    "rows = relevant_data['rowSet']\n",
    "\n",
    "# Create pandas DataFrame\n",
    "shooter_data = pd.DataFrame(rows)\n",
    "shooter_data.columns = headers"
   ]
  },
  {
   "cell_type": "code",
   "execution_count": 18,
   "id": "02879187",
   "metadata": {},
   "outputs": [
    {
     "data": {
      "text/plain": [
       "Index(['GRID_TYPE', 'GAME_ID', 'GAME_EVENT_ID', 'PLAYER_ID', 'PLAYER_NAME',\n",
       "       'TEAM_ID', 'TEAM_NAME', 'PERIOD', 'MINUTES_REMAINING',\n",
       "       'SECONDS_REMAINING', 'EVENT_TYPE', 'ACTION_TYPE', 'SHOT_TYPE',\n",
       "       'SHOT_ZONE_BASIC', 'SHOT_ZONE_AREA', 'SHOT_ZONE_RANGE', 'SHOT_DISTANCE',\n",
       "       'LOC_X', 'LOC_Y', 'SHOT_ATTEMPTED_FLAG', 'SHOT_MADE_FLAG', 'GAME_DATE',\n",
       "       'HTM', 'VTM'],\n",
       "      dtype='object')"
      ]
     },
     "execution_count": 18,
     "metadata": {},
     "output_type": "execute_result"
    }
   ],
   "source": [
    "shooter_data.columns\n"
   ]
  },
  {
   "cell_type": "code",
   "execution_count": 19,
   "id": "59d22c88",
   "metadata": {},
   "outputs": [],
   "source": [
    "def create_court(ax, color):\n",
    "    \n",
    "    # Short corner 3PT lines\n",
    "    ax.plot([-220, -220], [0, 140], linewidth=2, color=color)\n",
    "    ax.plot([220, 220], [0, 140], linewidth=2, color=color)\n",
    "    \n",
    "    # 3PT Arc\n",
    "    ax.add_artist(mpl.patches.Arc((0, 140), 440, 315, theta1=0, theta2=180, facecolor='none', edgecolor=color, lw=2))\n",
    "    \n",
    "    # Lane and Key\n",
    "    ax.plot([-80, -80], [0, 190], linewidth=2, color=color)\n",
    "    ax.plot([80, 80], [0, 190], linewidth=2, color=color)\n",
    "    ax.plot([-60, -60], [0, 190], linewidth=2, color=color)\n",
    "    ax.plot([60, 60], [0, 190], linewidth=2, color=color)\n",
    "    ax.plot([-80, 80], [190, 190], linewidth=2, color=color)\n",
    "    ax.add_artist(mpl.patches.Circle((0, 190), 60, facecolor='none', edgecolor=color, lw=2))\n",
    "    \n",
    "    # Rim\n",
    "    ax.add_artist(mpl.patches.Circle((0, 60), 15, facecolor='none', edgecolor=color, lw=2))\n",
    "    \n",
    "    # Backboard\n",
    "    ax.plot([-30, 30], [40, 40], linewidth=2, color=color)\n",
    "    \n",
    "    # Remove ticks\n",
    "    ax.set_xticks([])\n",
    "    ax.set_yticks([])\n",
    "    \n",
    "    # Set axis limits\n",
    "    ax.set_xlim(-250, 250)\n",
    "    ax.set_ylim(0, 470)\n",
    "    \n",
    "    return ax"
   ]
  },
  {
   "cell_type": "code",
   "execution_count": 20,
   "id": "3da76333",
   "metadata": {},
   "outputs": [],
   "source": [
    "mpl.rcParams['font.family'] = 'Avenir'\n",
    "mpl.rcParams['font.size'] = 18\n",
    "mpl.rcParams['axes.linewidth'] = 2\n"
   ]
  },
  {
   "cell_type": "code",
   "execution_count": 21,
   "id": "871f7b2e",
   "metadata": {},
   "outputs": [
    {
     "data": {
      "image/png": "[encoded data removed]",
      "text/plain": [
       "<Figure size 288x270.72 with 1 Axes>"
      ]
     },
     "metadata": {},
     "output_type": "display_data"
    }
   ],
   "source": [
    "# Create figure and axes\n",
    "fig = plt.figure(figsize=(4, 3.76))\n",
    "ax = fig.add_axes([0, 0, 1, 1])\n",
    "\n",
    "\n",
    "\n",
    "# Plot hexbin of shots\n",
    "ax.hexbin(shooter_data['LOC_X'], shooter_data['LOC_Y'] + 60, gridsize=(30, 30), extent=(-300, 300, 0, 940), bins='log', cmap='Greens')\n",
    "\n",
    "# Annotate player name and season using label value as cocnat for input\n",
    "ax.text(0, 1.05, label_value, transform=ax.transAxes, ha='left', va='baseline')\n",
    "\n",
    "# Draw court\n",
    "ax = create_court(ax, 'black')\n",
    "\n",
    "# Save and show figure\n",
    "plt.savefig('ShotChart.png', dpi=300, bbox_inches='tight')\n",
    "\n",
    "\n",
    "plt.show()"
   ]
  },
  {
   "cell_type": "code",
   "execution_count": null,
   "id": "d7ca942c",
   "metadata": {},
   "outputs": [],
   "source": []
  }
 ],
 "metadata": {
  "kernelspec": {
   "display_name": "Python 3 (ipykernel)",
   "language": "python",
   "name": "python3"
  },
  "language_info": {
   "codemirror_mode": {
    "name": "ipython",
    "version": 3
   },
   "file_extension": ".py",
   "mimetype": "text/x-python",
   "name": "python",
   "nbconvert_exporter": "python",
   "pygments_lexer": "ipython3",
   "version": "3.9.12"
  }
 },
 "nbformat": 4,
 "nbformat_minor": 5
}
